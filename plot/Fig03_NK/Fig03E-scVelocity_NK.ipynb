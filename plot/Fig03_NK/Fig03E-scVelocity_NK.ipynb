{
 "cells": [
  {
   "cell_type": "markdown",
   "metadata": {},
   "source": [
    "## 1. load Packages"
   ]
  },
  {
   "cell_type": "code",
   "execution_count": 1,
   "metadata": {},
   "outputs": [],
   "source": [
    "import os\n",
    "import numpy as np\n",
    "import pandas as pd\n",
    "import scanpy as sc\n",
    "import scvelo as scv\n",
    "from matplotlib import rcParams"
   ]
  },
  {
   "cell_type": "markdown",
   "metadata": {},
   "source": [
    "## 2. params"
   ]
  },
  {
   "cell_type": "code",
   "execution_count": 2,
   "metadata": {},
   "outputs": [],
   "source": [
    "os.chdir(\"D:/Projects/CASH-Human/\")\n",
    "dir_for_NK_ldata = \"./data/loom/ldata_sub/NK_ldata.h5ad\"\n",
    "\n",
    "## setup\n",
    "scv.settings.verbosity = 0\n",
    "sc.settings.verbosity = 0\n",
    "### fig\n",
    "sc.settings.set_figure_params(dpi = 100, dpi_save = 300, fontsize = 14, frameon = True,figsize = (8,8))\n",
    "scv.settings.set_figure_params(dpi = 100, dpi_save = 300, fontsize = 14, frameon = None, figsize = (8,8)) "
   ]
  },
  {
   "cell_type": "markdown",
   "metadata": {},
   "source": [
    "## 3. load data"
   ]
  },
  {
   "cell_type": "code",
   "execution_count": null,
   "metadata": {},
   "outputs": [],
   "source": [
    "## load data\n",
    "ldata = scv.read(os.path.join(dir_for_NK_ldata))\n",
    "print(\"ldata:\\n\", ldata)\n",
    "print(\"ldata_clusters:\\n\", pd.unique(ldata.obs[\"sub_celltype\"]))"
   ]
  },
  {
   "cell_type": "code",
   "execution_count": null,
   "metadata": {},
   "outputs": [],
   "source": [
    "cluster_group = [\"c28_NK_CD160\", \"c29_NK_NFKBIA\", \"c30_NK_DNAJB1\", \"c31_NK_CCL4\"]\n",
    "# ldata = ldata[ldata.obs[\"sub_celltype\"].isin(cluster_group)]\n",
    "ldata = ldata[ldata.obs[\"sub_celltype\"].isin(cluster_group)]\n",
    "print(\"ldata_sub:\\n\", ldata)\n",
    "print(\"ldata_sub_clusters:\\n\", pd.unique(ldata.obs[\"sub_celltype\"]))"
   ]
  },
  {
   "cell_type": "code",
   "execution_count": 5,
   "metadata": {},
   "outputs": [],
   "source": [
    "## preprocess\n",
    "sc.pp.pca(ldata)\n",
    "sc.pp.neighbors(ldata, n_pcs = 50, n_neighbors = 30)"
   ]
  },
  {
   "cell_type": "code",
   "execution_count": null,
   "metadata": {},
   "outputs": [],
   "source": [
    "## setup\n",
    "root_cells = ldata.obs_names[ldata.obs[\"sub_celltype\"] == \"c29_NK_NFKBIA\"]\n",
    "root_id = ldata.obs_names.get_indexer([root_cells[0]])[0]\n",
    "ldata.uns[\"root\"] = root_id\n",
    "sc.tl.dpt(ldata)\n",
    "\n",
    "scv.tl.recover_dynamics(ldata, n_jobs=14)\n",
    "scv.tl.latent_time(ldata, root_key='root')"
   ]
  },
  {
   "cell_type": "code",
   "execution_count": null,
   "metadata": {},
   "outputs": [],
   "source": [
    "# sc.pl.umap(ldata, color = \"sub_celltype\", frameon = False, legend_loc = \"right margin\")\n",
    "\n",
    "## compute\n",
    "scv.pp.filter_and_normalize(ldata)\n",
    "scv.pp.moments(ldata)\n",
    "\n",
    "# scv.tl.velocity(ldata, group_by = 'sub_celltype')\n",
    "\n",
    "# scv.tl.velocity_graph(ldata)\n",
    "\n",
    "## plot\n",
    "scv.pl.velocity_embedding_stream(ldata, \n",
    "                                 basis = \"X_umap\", \n",
    "                                 color = \"sub_celltype\",\n",
    "                                 title = \"\",\n",
    "                                 ## legend\n",
    "                                 legend_fontsize=12,\n",
    "                                 legend_loc = \"lower center\",\n",
    "                                 ## save\n",
    "                                 save = \"./fig/Fig03.NK/scVelocity_c29-c31_NK.pdf\",\n",
    "                                 density = 1.5, alpha=0.4,linewidth=0.8)"
   ]
  }
 ],
 "metadata": {
  "kernelspec": {
   "display_name": "base",
   "language": "python",
   "name": "python3"
  },
  "language_info": {
   "codemirror_mode": {
    "name": "ipython",
    "version": 3
   },
   "file_extension": ".py",
   "mimetype": "text/x-python",
   "name": "python",
   "nbconvert_exporter": "python",
   "pygments_lexer": "ipython3",
   "version": "3.12.4"
  }
 },
 "nbformat": 4,
 "nbformat_minor": 2
}
