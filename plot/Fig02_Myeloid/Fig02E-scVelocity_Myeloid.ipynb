{
 "cells": [
  {
   "cell_type": "markdown",
   "metadata": {},
   "source": [
    "## 1. load Packages"
   ]
  },
  {
   "cell_type": "code",
   "execution_count": 14,
   "metadata": {},
   "outputs": [],
   "source": [
    "import os\n",
    "import numpy as np\n",
    "import pandas as pd\n",
    "import scanpy as sc\n",
    "import scvelo as scv\n",
    "from matplotlib import rcParams"
   ]
  },
  {
   "cell_type": "markdown",
   "metadata": {},
   "source": [
    "## 2. params"
   ]
  },
  {
   "cell_type": "code",
   "execution_count": null,
   "metadata": {},
   "outputs": [],
   "source": [
    "os.chdir(\"D:/Projects/CASH-Human/\")\n",
    "dir_for_ldata_Myeloid = \"./data/loom/ldata_sub/Myeloid_ldata.h5ad\"\n",
    "\n",
    "## setup\n",
    "scv.settings.verbosity = 0\n",
    "sc.settings.verbosity = 0\n",
    "\n",
    "# color panel\n",
    "Subset_color_panel = {\n",
    "    \"c01_ Monocyte_CD14CD16\": \"#5A7B8F\",\n",
    "    \"c02_ Monocyte_CD14\": \"#3D806F\",\n",
    "    \"c03_ Monocyte_CD16\": \"#BC3C29\",\n",
    "    \"c04_ Monocyte_CD14\": \"#9FAFA3\",\n",
    "    \"c05_ Macrophage_\": \"#F37C95\",\n",
    "    \"c06_ Macrophage_\": \"#A08634\",\n",
    "    \"c07_ Macrophage_ MARCO\": \"#7D4E57\",\n",
    "    \"c08_ cDC1\": \"#608541\",\n",
    "    \"c09_cDC2\": \"#EE4C97\",\n",
    "    \"c10_cDC2\": \"#958056\",\n",
    "    \"c11_cDC2\": \"#6F99AD\",\n",
    "    \"c12_pDC\": \"#0072B5\",\n",
    "    \"c13_Actived_DC\": \"#CFC59A\"\n",
    "}\n",
    "\n",
    "### fig\n",
    "sc.settings.set_figure_params(dpi = 100, dpi_save = 100, fontsize = 14, frameon = True,figsize = (5,5))\n",
    "scv.settings.set_figure_params(dpi = 100, dpi_save = 100, fontsize = 14, frameon = None, figsize = (5,5)) "
   ]
  },
  {
   "cell_type": "markdown",
   "metadata": {},
   "source": [
    "## 3. load data"
   ]
  },
  {
   "cell_type": "code",
   "execution_count": null,
   "metadata": {},
   "outputs": [],
   "source": [
    "## load data\n",
    "ldata = scv.read(os.path.join(dir_for_ldata_Myeloid))\n",
    "print(\"ldata:\\n\", ldata)\n",
    "print(\"ldata_clusters:\\n\", pd.unique(ldata.obs[\"sub_celltype\"]))"
   ]
  },
  {
   "cell_type": "code",
   "execution_count": 17,
   "metadata": {},
   "outputs": [],
   "source": [
    "## preprocess\n",
    "sc.pp.pca(ldata)\n",
    "sc.pp.neighbors(ldata, n_pcs = 50, n_neighbors = 30)\n",
    "\n",
    "# sc.pl.umap(ldata, \n",
    "#            color = \"sub_celltype\", \n",
    "#            palette = Subset_color_panel,\n",
    "#            title = \"\",\n",
    "#            frameon = False, \n",
    "#            legend_loc = \"right margin\")\n"
   ]
  },
  {
   "cell_type": "code",
   "execution_count": null,
   "metadata": {},
   "outputs": [],
   "source": [
    "## compute\n",
    "scv.pp.filter_and_normalize(ldata)\n",
    "scv.pp.moments(ldata)\n",
    "\n",
    "scv.tl.velocity(ldata, group_by = 'sub_celltype')\n",
    "scv.tl.velocity_graph(ldata)"
   ]
  },
  {
   "cell_type": "code",
   "execution_count": null,
   "metadata": {},
   "outputs": [],
   "source": [
    "## plot\n",
    "scv.pl.velocity_embedding_stream(ldata, \n",
    "                                 basis = \"X_umap\", \n",
    "                                 color = \"sub_celltype\",\n",
    "                                 palette = Subset_color_panel,\n",
    "                                 title = \"\",\n",
    "                                 ## legend\n",
    "                                 legend_fontsize=12,\n",
    "                                 legend_loc = \"right margin\",\n",
    "                                 \n",
    "                                 ## save\n",
    "                                 save = \"./fig/Fig02.Myeloid/Fig2E.scVelocity_Myeloid.pdf\",\n",
    "                                 density = 1.5, alpha = 0.4, linewidth = 0.8)"
   ]
  }
 ],
 "metadata": {
  "kernelspec": {
   "display_name": "base",
   "language": "python",
   "name": "python3"
  },
  "language_info": {
   "codemirror_mode": {
    "name": "ipython",
    "version": 3
   },
   "file_extension": ".py",
   "mimetype": "text/x-python",
   "name": "python",
   "nbconvert_exporter": "python",
   "pygments_lexer": "ipython3",
   "version": "3.12.4"
  }
 },
 "nbformat": 4,
 "nbformat_minor": 2
}
